{
  "nbformat": 4,
  "nbformat_minor": 0,
  "metadata": {
    "colab": {
      "name": "NaiveBayes.ipynb",
      "provenance": [],
      "authorship_tag": "ABX9TyOfUG043VgPQfa2OH8GJ9aY",
      "include_colab_link": true
    },
    "kernelspec": {
      "name": "python3",
      "display_name": "Python 3"
    },
    "language_info": {
      "name": "python"
    }
  },
  "cells": [
    {
      "cell_type": "markdown",
      "metadata": {
        "id": "view-in-github",
        "colab_type": "text"
      },
      "source": [
        "<a href=\"https://colab.research.google.com/github/DaffaPoseidon/PythonJobsheet6Semester4/blob/main/NaiveBayes.ipynb\" target=\"_parent\"><img src=\"https://colab.research.google.com/assets/colab-badge.svg\" alt=\"Open In Colab\"/></a>"
      ]
    },
    {
      "cell_type": "code",
      "metadata": {
        "colab": {
          "base_uri": "https://localhost:8080/",
          "height": 229
        },
        "id": "mW6vbDKOC8BF",
        "outputId": "0d0655cb-82f0-48ac-c4d5-6b1502cddb4d"
      },
      "source": [
        "c1_count = 0\n",
        "c2_count = 0\n",
        "c1 = [0,0,0,0]\n",
        "c2 = [0,0,0,0]\n",
        "pc1 = [0,0,0,0]\n",
        "pc2 = [0,0,0,0]\n",
        "data = []\n",
        "f = open(\"D:\\M (3)\\Kuliah\\Semester 4\\Machine Learning\\Minggu 10 Naive Bayes 2021\\data.csv\",\"r\")\n",
        "d = f.read()\n",
        "lines = d.split(\"\\n\")\n",
        "for d in lines:\n",
        "    data.append((d.split(\",\")))\n",
        "\n",
        "attrs = len(data[0])\n",
        "for i in range(len(lines)):\n",
        "    if data[i][attrs-1] == \"yes\":\n",
        "        c1_count = c1_count + 1\n",
        "    if data[i][attrs-1] == \"no\":\n",
        "        c2_count = c2_count + 1\n",
        "pofc1 = c1_count/len(lines)\n",
        "pofc2 = c2_count/len(lines)\n",
        "inp = input(\"Enter Outlook,Temp,Humidity,Windy to Decide Wether to play or not:  \")\n",
        "inp_data = inp.split(\",\")\n",
        "for i in range(len(lines)):\n",
        "    for j in range(attrs-1):\n",
        "        if data[i][j].lower() == inp_data[j].lower():\n",
        "            if data[i][attrs-1].lower() == \"yes\":\n",
        "                c1[j] = c1[j] + 1\n",
        "            else:\n",
        "                c2[j] = c2[j] + 1\n",
        "pc1[:] = [x/c1_count for x in c1]\n",
        "pc2[:] = [x/c2_count for x in c2]\n",
        "pxbyc1 = 1\n",
        "pxbyc2 = 1\n",
        "for x in pc1:\n",
        "    pxbyc1 = pxbyc1*x\n",
        "for x in pc2:\n",
        "    pxbyc2 = pxbyc2*x\n",
        "pxbyc1 = pxbyc1 * pofc1\n",
        "pxbyc2 = pxbyc2 * pofc2\n",
        "if pxbyc1 > pxbyc2:\n",
        "    print(\"Play = Yes\")\n",
        "else:\n",
        "    print(\"Play = No\")"
      ],
      "execution_count": 13,
      "outputs": [
        {
          "output_type": "error",
          "ename": "FileNotFoundError",
          "evalue": "ignored",
          "traceback": [
            "\u001b[0;31m---------------------------------------------------------------------------\u001b[0m",
            "\u001b[0;31mFileNotFoundError\u001b[0m                         Traceback (most recent call last)",
            "\u001b[0;32m<ipython-input-13-067b585493c8>\u001b[0m in \u001b[0;36m<module>\u001b[0;34m()\u001b[0m\n\u001b[1;32m      6\u001b[0m \u001b[0mpc2\u001b[0m \u001b[0;34m=\u001b[0m \u001b[0;34m[\u001b[0m\u001b[0;36m0\u001b[0m\u001b[0;34m,\u001b[0m\u001b[0;36m0\u001b[0m\u001b[0;34m,\u001b[0m\u001b[0;36m0\u001b[0m\u001b[0;34m,\u001b[0m\u001b[0;36m0\u001b[0m\u001b[0;34m]\u001b[0m\u001b[0;34m\u001b[0m\u001b[0;34m\u001b[0m\u001b[0m\n\u001b[1;32m      7\u001b[0m \u001b[0mdata\u001b[0m \u001b[0;34m=\u001b[0m \u001b[0;34m[\u001b[0m\u001b[0;34m]\u001b[0m\u001b[0;34m\u001b[0m\u001b[0;34m\u001b[0m\u001b[0m\n\u001b[0;32m----> 8\u001b[0;31m \u001b[0mf\u001b[0m \u001b[0;34m=\u001b[0m \u001b[0mopen\u001b[0m\u001b[0;34m(\u001b[0m\u001b[0;34m\"D:\\M (3)\\Kuliah\\Semester 4\\Machine Learning\\Minggu 10 Naive Bayes 2021\\data.csv\"\u001b[0m\u001b[0;34m,\u001b[0m\u001b[0;34m\"r\"\u001b[0m\u001b[0;34m)\u001b[0m\u001b[0;34m\u001b[0m\u001b[0;34m\u001b[0m\u001b[0m\n\u001b[0m\u001b[1;32m      9\u001b[0m \u001b[0md\u001b[0m \u001b[0;34m=\u001b[0m \u001b[0mf\u001b[0m\u001b[0;34m.\u001b[0m\u001b[0mread\u001b[0m\u001b[0;34m(\u001b[0m\u001b[0;34m)\u001b[0m\u001b[0;34m\u001b[0m\u001b[0;34m\u001b[0m\u001b[0m\n\u001b[1;32m     10\u001b[0m \u001b[0mlines\u001b[0m \u001b[0;34m=\u001b[0m \u001b[0md\u001b[0m\u001b[0;34m.\u001b[0m\u001b[0msplit\u001b[0m\u001b[0;34m(\u001b[0m\u001b[0;34m\"\\n\"\u001b[0m\u001b[0;34m)\u001b[0m\u001b[0;34m\u001b[0m\u001b[0;34m\u001b[0m\u001b[0m\n",
            "\u001b[0;31mFileNotFoundError\u001b[0m: [Errno 2] No such file or directory: 'D:\\\\M (3)\\\\Kuliah\\\\Semester 4\\\\Machine Learning\\\\Minggu 10 Naive Bayes 2021\\\\data.csv'"
          ]
        }
      ]
    }
  ]
}